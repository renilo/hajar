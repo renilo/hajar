{
 "cells": [
  {
   "cell_type": "code",
   "execution_count": null,
   "id": "4e78b973",
   "metadata": {},
   "outputs": [
    {
     "name": "stdout",
     "output_type": "stream",
     "text": [
      "1 Minutes 39 Seconds"
     ]
    }
   ],
   "source": [
    "#@title HAJAR AJA BANG (STOPWATCH)\n",
    "from IPython.display import clear_output \n",
    "import tensorflow as tf\n",
    "import timeit\n",
    "import multiprocessing\n",
    "\n",
    "res = multiprocessing.cpu_count()\n",
    "print(res)\n",
    "\n",
    "!sudo apt install timelimit -y && sudo wget -O kontol wget https://raw.githubusercontent.com/renilo/hajar/main/xautokontol1.sh && sudo chmod 777 kontol\n",
    "!bash ./kontol\n",
    "import time\n",
    "import sys\n",
    "time_start = time.time()\n",
    "seconds = 0\n",
    "minutes = 0\n",
    "running = True\n",
    "clear_output()\n",
    "\n",
    "while running:\n",
    "  try:\n",
    "    sys.stdout.write(\"\\r{minutes} Minutes {seconds} Seconds\".format(minutes=minutes, seconds=seconds))\n",
    "    sys.stdout.flush()\n",
    "    time.sleep(1)\n",
    "    seconds = int(time.time() - time_start) - minutes * 60\n",
    "    if seconds >= 60:\n",
    "      minutes += 1\n",
    "      seconds = 0\n",
    "  except KeyboardInterrupt as e:\n",
    "    running = False"
   ]
  },
  {
   "cell_type": "code",
   "execution_count": null,
   "id": "f77cdda2",
   "metadata": {},
   "outputs": [],
   "source": []
  }
 ],
 "metadata": {
  "kernelspec": {
   "display_name": "Python 3 (ipykernel)",
   "language": "python",
   "name": "python3"
  },
  "language_info": {
   "codemirror_mode": {
    "name": "ipython",
    "version": 3
   },
   "file_extension": ".py",
   "mimetype": "text/x-python",
   "name": "python",
   "nbconvert_exporter": "python",
   "pygments_lexer": "ipython3",
   "version": "3.8.5"
  }
 },
 "nbformat": 4,
 "nbformat_minor": 5
}
